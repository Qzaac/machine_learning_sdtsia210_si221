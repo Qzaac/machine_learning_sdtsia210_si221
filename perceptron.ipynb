{
 "cells": [
  {
   "cell_type": "markdown",
   "metadata": {},
   "source": [
    "Look into the following pages to begin or find documentation on the python librairies used here:\n",
    "- http://www.python.org\n",
    "- http://scipy.org\n",
    "- http://www.numpy.org\n",
    "- http://scikit-learn.org/stable/index.html\n",
    "- http://www.loria.fr/~rougier/teaching/matplotlib/matplotlib.html"
   ]
  },
  {
   "cell_type": "markdown",
   "metadata": {},
   "source": [
    "## Introduction\n",
    "\n",
    "\n",
    "In this lab session, we will work on a first practical application of supervised learning, which is arguably the simplest one: **binary supervised classification**. We will generate artificial data from two different sources, and we will try to learn a classifier that will be able to separate the data, using the **perceptron**. "
   ]
  },
  {
   "cell_type": "markdown",
   "metadata": {},
   "source": [
    "### Definitions and notations\n",
    "\n",
    "- $\\mathcal{X}$ is a set of *examples/observations/samples* $\\mathbf{x} = (x_1, x_2, ..., x_p) \\in \\mathbb{R}^p$. We call $x_j$ the value taken by the $j$-th variable of $\\mathbf{x}$, or its $j$-th *feature*.\n",
    "- $\\mathcal{Y}$ is the set of labels. We are in the **binary** case: there is only two possible labels. We choose to note them $\\{ -1, 1\\}$, which will make things easy by allowing us to work with the ```sign``` function.\n",
    "- $\\mathcal{D}_n = \\{(x_i, y_i), i=1, .., n\\}$ is a dataset containing $n$ examples and their labels. \n",
    "- There exists a probabilistic model governing the generation of our data given i.i.d random variables $X$ and $Y$: $\\forall i \\in \\{ 1, ..., n \\}, (x_i, y_i) \\sim (X, Y)$\n",
    "- We would like to build, from $\\mathcal{D}_n$, a function that we call a *classifier*, $$\\hat{f}: \\mathcal{X} \\rightarrow \\{ -1, 1 \\}$$ which for a new data point $\\mathbf{x}_{new}$ will give a label $\\hat{f}(\\mathbf{x}_{new})$."
   ]
  },
  {
   "cell_type": "code",
   "execution_count": 1,
   "metadata": {
    "collapsed": true
   },
   "outputs": [
    {
     "data": {
      "text/plain": [
       "{'axes.facecolor': 'white',\n",
       " 'axes.edgecolor': '.15',\n",
       " 'axes.grid': False,\n",
       " 'axes.axisbelow': True,\n",
       " 'axes.labelcolor': '.15',\n",
       " 'figure.facecolor': 'white',\n",
       " 'grid.color': '.8',\n",
       " 'grid.linestyle': '-',\n",
       " 'text.color': '.15',\n",
       " 'xtick.color': '.15',\n",
       " 'ytick.color': '.15',\n",
       " 'xtick.direction': 'out',\n",
       " 'ytick.direction': 'out',\n",
       " 'lines.solid_capstyle': <CapStyle.round: 'round'>,\n",
       " 'patch.edgecolor': 'w',\n",
       " 'patch.force_edgecolor': True,\n",
       " 'image.cmap': 'rocket',\n",
       " 'font.family': ['sans-serif'],\n",
       " 'font.sans-serif': ['Arial',\n",
       "  'DejaVu Sans',\n",
       "  'Liberation Sans',\n",
       "  'Bitstream Vera Sans',\n",
       "  'sans-serif'],\n",
       " 'xtick.bottom': False,\n",
       " 'xtick.top': False,\n",
       " 'ytick.left': False,\n",
       " 'ytick.right': False,\n",
       " 'axes.spines.left': True,\n",
       " 'axes.spines.bottom': True,\n",
       " 'axes.spines.right': True,\n",
       " 'axes.spines.top': True}"
      ]
     },
     "execution_count": 1,
     "metadata": {},
     "output_type": "execute_result"
    }
   ],
   "source": [
    "\"\"\"From a lab created on Mon Sep 23 17:50:04 2013 by baskiotis, salmon, gramfort\n",
    "Modified on Mon Nov 4 21:09:38 2019 by mozharovskyi\n",
    "Modified on Wed Feb 17 by labeau\"\"\"\n",
    "\n",
    "import numpy as np\n",
    "import matplotlib.pyplot as plt\n",
    "from mpl_toolkits.mplot3d import Axes3D\n",
    "from matplotlib.colors import ListedColormap\n",
    "from matplotlib import cm\n",
    "import seaborn as sns\n",
    "from matplotlib import rc\n",
    "\n",
    "################################################################\n",
    "# Code for displaying labeled data - no understanding needed ! #\n",
    "################################################################\n",
    "\n",
    "symlist = ['o', 'p', '*', 's', '+', 'x', 'D', 'v', '-', '^']\n",
    "\n",
    "rc('font', **{'family': 'sans-serif', 'sans-serif': ['Computer Modern Roman']})\n",
    "params = {'axes.labelsize': 12,\n",
    "          'font.size': 16,\n",
    "          'legend.fontsize': 16,\n",
    "          'text.usetex': False,\n",
    "          'figure.figsize': (8, 6)}\n",
    "plt.rcParams.update(params)\n",
    "\n",
    "sns.set_context(\"poster\")\n",
    "sns.set_palette(\"colorblind\")\n",
    "sns.set_style(\"white\")\n",
    "sns.axes_style()"
   ]
  },
  {
   "cell_type": "markdown",
   "metadata": {},
   "source": [
    "## Generating artificial data \n",
    "\n",
    "For our first experiment, and in order to visualize what is happening, we will work with only two features (so, with $p=2$) so that we can plot the data and the classifier. \n",
    "\n",
    "1) Take a look at the function ```rand_gauss(n, mu, sigma)```: this function returns $n$ samples following the multi-dimensional normal distribution, with mean the vector $\\mu =$ ```mu```, and with the covariance matrix $\\Sigma$ being the diagonal matrix of the vector ```sigmas``` $=[ \\sigma_1, \\sigma_2]$. Hence, the matrix $$\\Sigma = \\begin{pmatrix}\n",
    "\\sigma_1&0 \\\\\n",
    "0 &\\sigma_2\n",
    "\\end{pmatrix}$$\n",
    "Now, generate different datasets from the function ```rand_bi_gauss``` function. What does the second output correspond to ? "
   ]
  },
  {
   "cell_type": "code",
   "execution_count": 3,
   "metadata": {},
   "outputs": [],
   "source": [
    "def rand_gauss(n=100, mu=[1, 1], sigmas=[0.1, 0.1]):\n",
    "    \"\"\"Sample  points from a Gaussian variable.\n",
    "    Parameters\n",
    "    ----------\n",
    "    n : number of samples\n",
    "    mu : centered\n",
    "    sigma : standard deviation\n",
    "    \"\"\"\n",
    "    d = len(mu)\n",
    "    res = np.random.randn(n, d)\n",
    "    return np.array(mu + res * sigmas)\n",
    "\n",
    "\n",
    "def rand_bi_gauss(n1=100, n2=100, mu1=[1, 1], mu2=[-1, -1], sigmas1=[0.1, 0.1],\n",
    "                  sigmas2=[0.1, 0.1]):\n",
    "    \"\"\"Sample points from two Gaussian distributions.\n",
    "    Parameters\n",
    "    ----------\n",
    "    n1 : number of sample from first distribution\n",
    "    n2 : number of sample from second distribution\n",
    "    mu1 : center for first distribution\n",
    "    mu2 : center for second distribution\n",
    "    sigma1: std deviation for first distribution\n",
    "    sigma2: std deviation for second distribution\n",
    "    \"\"\"\n",
    "    ex1 = rand_gauss(n1, mu1, sigmas1)\n",
    "    ex2 = rand_gauss(n2, mu2, sigmas2)\n",
    "    y = np.hstack([np.ones(n1), -1 * np.ones(n2)])\n",
    "    X = np.vstack([ex1, ex2])\n",
    "    ind = np.random.permutation(n1 + n2)\n",
    "    return X[ind, :], y[ind]"
   ]
  },
  {
   "cell_type": "code",
   "execution_count": 4,
   "metadata": {
    "collapsed": true
   },
   "outputs": [
    {
     "data": {
      "text/plain": [
       "array([[1.00130707, 0.89419183],\n",
       "       [1.06462898, 0.88173176],\n",
       "       [1.03009556, 0.90368817],\n",
       "       [1.08752074, 0.99870817],\n",
       "       [0.993623  , 0.91837521],\n",
       "       [0.95643453, 0.93740545],\n",
       "       [1.09784528, 1.08366115],\n",
       "       [1.0262896 , 1.03990736],\n",
       "       [0.88324305, 1.00493569],\n",
       "       [0.99414146, 0.984983  ],\n",
       "       [1.11384163, 0.93077482],\n",
       "       [0.92452645, 1.01945217],\n",
       "       [0.8813969 , 1.08505484],\n",
       "       [1.09208928, 0.80852455],\n",
       "       [1.06692806, 0.9402399 ],\n",
       "       [1.10761053, 1.12088436],\n",
       "       [1.00519214, 0.97834621],\n",
       "       [0.94084723, 0.98241652],\n",
       "       [0.96886288, 0.90121319],\n",
       "       [1.08874253, 0.89614844],\n",
       "       [1.03862987, 0.95952294],\n",
       "       [1.00176411, 0.87369394],\n",
       "       [1.00706495, 1.00629919],\n",
       "       [1.07378326, 0.91570527],\n",
       "       [1.1370436 , 0.99334497],\n",
       "       [0.91411584, 0.86783314],\n",
       "       [0.9778551 , 0.99606359],\n",
       "       [0.91027154, 0.86792899],\n",
       "       [1.08021589, 1.03427705],\n",
       "       [1.1292674 , 1.08367831],\n",
       "       [0.81361014, 1.01301347],\n",
       "       [1.1171033 , 0.82713734],\n",
       "       [0.89512065, 0.97809118],\n",
       "       [0.83978944, 1.05033796],\n",
       "       [0.89044828, 0.81864906],\n",
       "       [1.17476062, 1.16864783],\n",
       "       [0.97667993, 0.77084879],\n",
       "       [1.02747703, 0.98775968],\n",
       "       [0.91934053, 0.930061  ],\n",
       "       [0.92515117, 0.95220608],\n",
       "       [0.96115458, 1.05246127],\n",
       "       [1.15667075, 0.95773589],\n",
       "       [0.87353225, 0.85784066],\n",
       "       [1.01186921, 1.06104762],\n",
       "       [1.04436363, 1.14104071],\n",
       "       [1.16737538, 1.23721392],\n",
       "       [0.8992472 , 0.97322545],\n",
       "       [0.94706338, 0.91296811],\n",
       "       [1.09556   , 1.04318733],\n",
       "       [1.28372625, 0.94919935],\n",
       "       [1.06798359, 0.96868661],\n",
       "       [1.02800679, 1.01675755],\n",
       "       [1.17255872, 0.91993205],\n",
       "       [1.03335485, 0.96791039],\n",
       "       [0.96685824, 0.98950956],\n",
       "       [0.88843051, 1.03304669],\n",
       "       [1.11885189, 0.90813761],\n",
       "       [1.0019215 , 1.06508615],\n",
       "       [0.91540527, 1.20015133],\n",
       "       [0.81934075, 1.00477373],\n",
       "       [0.95755073, 0.89770969],\n",
       "       [0.98939925, 0.80589557],\n",
       "       [0.93023321, 1.02854977],\n",
       "       [0.88039777, 1.00689464],\n",
       "       [1.00432114, 1.03471989],\n",
       "       [1.0904631 , 0.9363909 ],\n",
       "       [0.82274164, 1.19075939],\n",
       "       [0.89662116, 1.06142084],\n",
       "       [0.8043866 , 1.19114085],\n",
       "       [0.81432938, 0.95206759],\n",
       "       [1.06067315, 1.13424405],\n",
       "       [0.96602366, 1.00833106],\n",
       "       [0.99168487, 0.90899409],\n",
       "       [1.03604022, 1.06121927],\n",
       "       [0.93100558, 1.07728499],\n",
       "       [1.0487018 , 0.94397108],\n",
       "       [1.01047331, 1.05895775],\n",
       "       [0.87536551, 0.99407763],\n",
       "       [1.02588372, 0.9254862 ],\n",
       "       [0.89869605, 0.88531213],\n",
       "       [0.86133869, 1.05902464],\n",
       "       [1.04999865, 0.95990136],\n",
       "       [1.00820688, 0.84610577],\n",
       "       [0.86609684, 0.98185135],\n",
       "       [0.68506522, 1.01844798],\n",
       "       [1.04963416, 1.16408753],\n",
       "       [1.10116768, 0.86917596],\n",
       "       [1.07892071, 0.97580729],\n",
       "       [0.90279086, 0.99449049],\n",
       "       [0.88163843, 1.02035959],\n",
       "       [0.95407706, 1.00889556],\n",
       "       [1.09002448, 0.99938816],\n",
       "       [0.95339144, 0.86560709],\n",
       "       [0.93627169, 0.86756336],\n",
       "       [1.08811975, 0.80575442],\n",
       "       [1.06696394, 0.72191029],\n",
       "       [0.80692097, 0.97853441],\n",
       "       [0.99930728, 1.00112021],\n",
       "       [0.89423688, 1.05383784],\n",
       "       [1.05637322, 1.0309734 ]])"
      ]
     },
     "execution_count": 4,
     "metadata": {},
     "output_type": "execute_result"
    }
   ],
   "source": [
    "# Generate data with rand_gauss\n",
    "rand_gauss()"
   ]
  },
  {
   "cell_type": "code",
   "execution_count": 25,
   "metadata": {},
   "outputs": [],
   "source": [
    "# Generate data with rand_bi_gauss\n",
    "X, y = rand_bi_gauss()"
   ]
  },
  {
   "cell_type": "markdown",
   "metadata": {},
   "source": [
    "The second output corresponds to the labels given to each point."
   ]
  },
  {
   "cell_type": "markdown",
   "metadata": {},
   "source": [
    "2) Keep some of these datasets to use them in the rest of the lab. For each of them, save them as a numpy array with two coloumns for $X$, and as a vector for $Y$. Use the function ```plot_2d``` allowing you to visualize the data with their associated labels."
   ]
  },
  {
   "cell_type": "code",
   "execution_count": 13,
   "metadata": {},
   "outputs": [],
   "source": [
    "def plot_2d(X, y, w=None, step=50, alpha_choice=1):\n",
    "    \"\"\"2D dataset data ploting according to labels.\n",
    "    Parameters\n",
    "    ----------\n",
    "    X : data features\n",
    "    y : label vector\n",
    "    w :(optional) the separating hyperplan w\n",
    "    alpha_choice : control alpha display parameter\n",
    "    \"\"\"\n",
    "    min_tot0 = np.min(X[:, 0])\n",
    "    min_tot1 = np.min(X[:, 1])\n",
    "\n",
    "    max_tot0 = np.max(X[:, 0])\n",
    "    max_tot1 = np.max(X[:, 1])\n",
    "    delta0 = (max_tot0 - min_tot0)\n",
    "    delta1 = (max_tot1 - min_tot1)\n",
    "    labels = np.unique(y)\n",
    "    k = np.unique(y).shape[0]\n",
    "    color_blind_list = sns.color_palette(\"colorblind\", k)\n",
    "    sns.set_palette(color_blind_list)\n",
    "    for i, label in enumerate(y):\n",
    "        label_num = np.where(labels == label)[0][0]\n",
    "        plt.scatter(X[i, 0], X[i, 1],\n",
    "                    c=np.reshape(color_blind_list[label_num], (1, -1)),\n",
    "                    s=80, marker=symlist[label_num])\n",
    "    plt.xlim([min_tot0 - delta0 / 10., max_tot0 + delta0 / 10.])\n",
    "    plt.ylim([min_tot1 - delta1 / 10., max_tot1 + delta1 / 10.])\n",
    "    if w is not None:\n",
    "        plt.plot([min_tot0, max_tot0],\n",
    "                 [min_tot0 * -w[1] / w[2] - w[0] / w[2],\n",
    "                  max_tot0 * -w[1] / w[2] - w[0] / w[2]],\n",
    "                 \"k\", alpha=alpha_choice)"
   ]
  },
  {
   "cell_type": "code",
   "execution_count": 14,
   "metadata": {},
   "outputs": [
    {
     "data": {
      "image/png": "[encoded data removed]",
      "text/plain": [
       "<Figure size 576x432 with 1 Axes>"
      ]
     },
     "metadata": {},
     "output_type": "display_data"
    }
   ],
   "source": [
    "# Plot your generated data\n",
    "plot_2d(X, y)"
   ]
  },
  {
   "cell_type": "markdown",
   "metadata": {},
   "source": [
    "## The perceptron\n",
    "\n",
    "#### Linear classifiers (affine)\n",
    "\n",
    "A **linear classifier** is a classifier associating to each observation $x$ a label in $\\mathcal{Y}$ given its position related to an **affine hyperplane**. Each linear classifier is therefore linked to an affine hyperplan of $\\mathbb{R}^p$, which we define by its **directing vector** (or normal vector) $\\mathbf{w} = (w_0, w_1, ..., w_p) \\in \\mathbb{R}^{p+1}$. Note the supplementary dimension: it is used for what we call the *intercept* $w_0$ of the classifier (in French, *ordonnée à l'origine*). Geometrically, this allows the hyperplane to not go through the origin, and be shifted anywhere in the space. \n",
    "The hyperplane is then given by:\n",
    "$$ H_{\\mathbf{w}}=\\left\\{ \\mathbf{x} \\in \\mathbb{R}^{p} : \\hat{f}_{\\mathbf{w}}(\\mathbf{x}):=\n",
    "w_0 +\\sum_{j=1}^p w_j x_j=0 \\right\\}. $$\n",
    "\n",
    "In order to classify an observation $\\mathbf{x}$ (i.e, affect a label $1$ or $-1$, we use the function $sign(f(\\mathbf{x}))$, where the $sign$ function is defined as:\n",
    "$$ sign(x)=\n",
    "\\begin{cases}\n",
    " 1,& \\text{ si } x\\geq0,\\\\\n",
    "-1,& \\text{ si } x<0\n",
    "\\end{cases}\n",
    "\\enspace . $$\n",
    "\n",
    "Hence, the function  $\\mathbf{x} \\mapsto sign ( \\hat{f}_{\\mathbf{w}}(\\mathbf{x}))$ is the binary classifier of linear separation defined by $\\mathbf{w}$. The objective of the perceptron is to find an hyperplane which separates in the best possible way the data, into two groups. We would like to have, on each side of the hyperplane, labels separated into homogenous groups. The vector $\\mathbf{w}$ is called a **weight vectors**. "
   ]
  },
  {
   "cell_type": "markdown",
   "metadata": {},
   "source": [
    "For the next questions, you should reuse the datasets you obtained previously.\n",
    "\n",
    "3) What does the linear separation given by the perceptron in dimension $p=2$ ? See if you can find (visually) a good separation for your datasets. When is $\\hat{f}_{\\mathbf{w}}(\\mathbf{x})$ large ? Negative ? Positive ? How can that function be interpreted geometrically ? What does $w_0$ corresponds to on the linear separation you found on your data ?"
   ]
  },
  {
   "cell_type": "markdown",
   "metadata": {},
   "source": [
    "$\\hat{f}_{\\mathbf{w}}(\\mathbf{x})$ is large whenever $\\mathbf{x}$ lies far away from the hyperplane. "
   ]
  },
  {
   "cell_type": "markdown",
   "metadata": {},
   "source": [
    "4) Write the the function ```predict(x,w)``` that takes, as input, a vector $\\mathbf{x} \\in \\mathbb{R}^p$ and a weight vector $\\mathbf{w} \\in \\mathbb{R}^{p+1}$ and outputs the prediction $\\hat{f}_{\\mathbf{w}}(\\mathbf{x})$. Then, write ```predict_class(x,w)``` that outputs the predicted label $sign\\left(\\hat{f}_\\mathbf{w}(\\mathbf{x})\\right)$. Apply them to the following example, and display on the same plot your data, the hyperplane, and the two new points."
   ]
  },
  {
   "cell_type": "code",
   "execution_count": 38,
   "metadata": {},
   "outputs": [],
   "source": [
    "def predict(x, w):\n",
    "    \"\"\"Prediction from a normal vector.\"\"\"\n",
    "    return w[0] + np.dot(x, w[1:])\n",
    "\n",
    "\n",
    "def predict_class(x, w):\n",
    "    \"\"\"Predict a class from at point x thanks to a normal vector.\"\"\"\n",
    "    return np.sign(predict(x, w))"
   ]
  },
  {
   "cell_type": "code",
   "execution_count": 45,
   "metadata": {},
   "outputs": [
    {
     "name": "stdout",
     "output_type": "stream",
     "text": [
      "-2\n"
     ]
    },
    {
     "data": {
      "image/png": "[encoded data removed]",
      "text/plain": [
       "<Figure size 576x432 with 1 Axes>"
      ]
     },
     "metadata": {},
     "output_type": "display_data"
    }
   ],
   "source": [
    "w1 = [0, 1, 1] # Visually, seems like it would make an okay normal vector for a separating hyperplane\n",
    "x_test_1 = [-1, -1]\n",
    "x_test_2 = [1, 1]\n",
    "\n",
    "# Make predictions for these two points and display them, with the data and hyperplane.\n",
    "print(predict(x_test_1, w1))\n",
    "y_test = np.array([predict_class(x_test_1, w1), predict_class(x_test_2, w1)])\n",
    "X_test = np.vstack([x_test_1, x_test_2])\n",
    "plot_2d(X_test, y_test, w1)"
   ]
  },
  {
   "cell_type": "markdown",
   "metadata": {},
   "source": [
    "### Perceptron learning rule\n",
    "\n",
    "The **perceptron algorithm** consists in detecting when there is a mistake, meaning that there is a point that is misclassified, and moving $\\mathbf{w}$ towards having this point on the 'right side' of the hyperplane. The change in $\\mathbf{w}$ for a case when the point is misclassified is described by the following learning rule (Rosenblatt's):\n",
    "$$\\mathbf{w}\\leftarrow\\mathbf{w}+\\epsilon \\begin{pmatrix}1 \\\\ \\mathbf x_i \\end{pmatrix}\\cdot y_i$$\n",
    "where $\\epsilon$ is a *learning step*, which indicates how much we correct $\\mathbf{w}$. The method is iterative: we will go through all examples we have in our data and update the points accordingly. \n",
    "Then, the algorithm is as follows:\n",
    "\n",
    "- **Data**: \n",
    "    - The observations and their labels $\\mathcal{D}_n=\\{(\\mathbf{x}_i,y_i): 1\\leq i \\leq n\\}$\n",
    "    - The gradient step: $\\epsilon$\n",
    "    - The maximal number of iterations: $n_{iter}$\n",
    "\n",
    "- **Result**: \n",
    "    - $\\mathbf{w}$ \n",
    "- Randomly initialize $\\mathbf{w}$; initialize $j=0$\n",
    "- While ${j\\leq n_{\\rm iter}}$ \n",
    "    - $\\mathbf{w}\\leftarrow\\mathbf{w}$\n",
    "    - For $i=1$ to $n$:\n",
    "        - if $\\hat{f}_{\\mathbf{w}}(\\mathbf{x}) \\cdot y_i \\leq 0$\n",
    "            - $\\mathbf{w}\\leftarrow\\mathbf{w}+\\epsilon \\begin{pmatrix}1 \\\\ \\mathbf x_i \\end{pmatrix}\\cdot y_i$\n",
    "        - $j\\leftarrow j+1$\n",
    "        \n",
    "You have to complete the code for this procedure in the ```perceptron``` function:"
   ]
  },
  {
   "cell_type": "code",
   "execution_count": 93,
   "metadata": {},
   "outputs": [],
   "source": [
    "def perceptron(x, y, eps, niter, w_ini):\n",
    "    \"\"\" Perceptron algorithm:\n",
    "        - x : Data\n",
    "        - y : label\n",
    "        - eps : learning rate\n",
    "        - niter : number of iterations\n",
    "        - w_ini : initial weight\n",
    "        \"\"\"\n",
    "    # Keep track of w at each iterations - the first one is w_ini\n",
    "    w = np.zeros((niter, w_ini.size))\n",
    "    w[0] = w_ini\n",
    "    \n",
    "    # Implement the learning loop\n",
    "    j = 1\n",
    "    w_temp = w_ini\n",
    "    while j < niter:\n",
    "        for i in range(len(y)):\n",
    "            if predict(x[i], w_temp)*y[i] <= 0 :\n",
    "                w_temp = w_temp + eps*np.concatenate(([1], x[i]))*y[i]\n",
    "        w[j] = w_temp\n",
    "        j = j + 1\n",
    "    return w"
   ]
  },
  {
   "cell_type": "markdown",
   "metadata": {},
   "source": [
    "5) Test the perceptron algorithm on the following parameters and look at how $\\mathbf{w}$ evolves during the iterations. "
   ]
  },
  {
   "cell_type": "code",
   "execution_count": 108,
   "metadata": {},
   "outputs": [
    {
     "data": {
      "image/png": "[encoded data removed]",
      "text/plain": [
       "<Figure size 576x432 with 1 Axes>"
      ]
     },
     "metadata": {},
     "output_type": "display_data"
    }
   ],
   "source": [
    "# Choose an epsilon\n",
    "epsilon = 0.2\n",
    "# A number of iterations\n",
    "niter = 10\n",
    "# Initialize w_ini\n",
    "std_ini = 1.\n",
    "w_ini = std_ini * np.random.randn(X.shape[1] + 1)\n",
    "\n",
    "# Use the 'perceptron' function \n",
    "var = 2\n",
    "X1, y1 = rand_bi_gauss(100, 100, [-1,5], [1, -1], [var, var], [var, var])\n",
    "w_perc = perceptron(X1, y1, epsilon, niter, w_ini)\n",
    "plot_2d(X1, y1, w_perc[-1])"
   ]
  },
  {
   "cell_type": "markdown",
   "metadata": {},
   "source": [
    "6) Display on the same figure the evolution of the boundaries according to the iterations. We can use the ```plot_2d``` function and its ```alpha_choice``` argument for that purpose."
   ]
  },
  {
   "cell_type": "code",
   "execution_count": 109,
   "metadata": {},
   "outputs": [
    {
     "data": {
      "image/png": "[encoded data removed]",
      "text/plain": [
       "<Figure size 576x432 with 1 Axes>"
      ]
     },
     "metadata": {},
     "output_type": "display_data"
    }
   ],
   "source": [
    "# Use a loop and the last argument of plot_2d to plot each hyperplane (at each iteration) \n",
    "# with decreasing transparency\n",
    "for i in range(len(w_perc)):\n",
    "    plot_2d(X1, y1, w_perc[i], alpha_choice=(i + 1)/len(w_perc))"
   ]
  },
  {
   "cell_type": "markdown",
   "metadata": {},
   "source": [
    "### General case: cost function\n",
    "\n",
    "While the perceptron algorithm we saw works geometrically, in general, in order to measure the error associated to an entire dataset $\\mathcal{D}_n$ it is necessary to set a loss function $\\ell:\\mathbb{R}\\times\\mathcal{Y} \\mapsto \\mathbb{R}^+$ which measures the cost $h$ of an error $i$ when predicting an example.\n",
    "The cost that we want to minimize (as a function of $\\mathbf{w}$) is $\\mathbb{E} \\left[ \\ell(\\hat{f}_{\\mathbf{w}}(\\mathbf{x}),y)\\right]$, the expectation of the loss function on all the data. Three loss functions are commonly used and defined below :\n",
    "- the error percentage: $ZeroOneLoss(\\hat{f}_{\\mathbf{w}}(\\mathbf{x}), y) = |y-sign(\\hat{f}_{\\mathbf{w}}(\\mathbf{x}))|/2$,\n",
    "- the quadratic error: $MSELoss(\\hat{f}_{\\mathbf{w}}(\\mathbf{x}), y) = (y-\\hat{f}_{\\mathbf{w}}(\\mathbf{x}))^2$,\n",
    "- the hinge error (*charnière* in French): $HingeLoss(\\hat{f}_{\\mathbf{w}}(\\mathbf{x}), y) = \\max(0,1-y \\cdot \\hat{f}_{\\mathbf{w}}(\\mathbf{x}))$.\n",
    "The purpose here is to study these different loss functions. These three functions are already implemented, as well as their associated gradient:"
   ]
  },
  {
   "cell_type": "code",
   "execution_count": null,
   "metadata": {},
   "outputs": [],
   "source": [
    "def zero_one_loss(x, y, w):\n",
    "    \"\"\"0-1 loss function.\"\"\"\n",
    "    return abs(y - np.sign(predict(x, w))) / 2.\n",
    "\n",
    "def hinge_loss(x, y, w):\n",
    "    \"\"\"Hinge loss function.\"\"\"\n",
    "    return np.maximum(0., 1. - y * predict(x, w))\n",
    "\n",
    "def mse_loss(x, y, w):\n",
    "    \"\"\"Mean square error loss.\"\"\"\n",
    "    return (y - predict(x, w)) ** 2\n",
    "\n",
    "def gr_hinge_loss(x, y, w):\n",
    "    \"\"\"Sub-gradient of the loss function hingeloss.\"\"\"\n",
    "    return np.dot(-y * (hinge_loss(x, y, w) > 0.),\n",
    "                  np.hstack((np.ones((x.shape[0], 1)), x)))\n",
    "\n",
    "\n",
    "def gr_mse_loss(x, y, w):\n",
    "    \"\"\"Gradient of the least squares lost function.\"\"\"\n",
    "    return -2. * np.dot(y - predict(x, w),\n",
    "                        np.hstack((np.ones((x.shape[0], 1)), x)))"
   ]
  },
  {
   "cell_type": "markdown",
   "metadata": {},
   "source": [
    "7) Suppose that $\\mathbf{x} \\in \\mathbb{R}^p$ and $y \\in \\mathbb{R}$ are fixed. What is the nature of the functions $\\mathbf{w} \\mapsto \\ell(\\hat{f}_{\\mathbf{w}}(\\mathbf{x}),y)$ for the three losses studied: constant, linear, qua{dratic, piecewise constant, linear by pieces, quadratic by pieces, etc. ?"
   ]
  },
  {
   "cell_type": "markdown",
   "metadata": {},
   "source": [
    "## Stochastic gradient descent algorithm\n",
    "\n",
    "In the general case, it is of course impossible to do an exhaustive search of the space $\\mathbb{R}^{p+1}$ where evolves $\\mathbf{w}$ to minimize the gradient of $\\mathbf{w} \\mapsto \\ell(\\hat{f}_{\\mathbf{w}}(\\mathbf{x}),y)$ in order to find the minimum cost. Moreover, we cannot observe $\\mathbb{E} \\left[ \\ell(\\hat{f}_{\\mathbf{w}}(\\mathbf{x}),y)\\right]$, so we can only try to **minimize its empirical counterpart**: $$\\sum_{i=1}^n \\ell(\\hat{f}_{\\mathbf{w}}(\\mathbf{x}_i),y_i)$$\n",
    "\n",
    "\n",
    "The **perceptron algorithm** actually consists in using a variant of the gradient descent algorithm, which is the usual method of optimizing a differentiable function. Here, at each step, the current weight is corrected in the same direction as the gradient, but in the opposite sense. The algorithm converges in the general case to a local minimum as long as $\\epsilon$, which we now call the **gradient step** is well chosen. Moreover, the minimum reached is global for convex functions.\n",
    "\n",
    "The stochastic gradient method is a variant which proposes not to directly use the gradient, which requires calculating a sum on the $n$ observations, but rather to draw (randomly ... or not) a pair $(\\mathbf{x}_i , y_i )$ on which a gradient is calculated. We can also show that this algorithm converges under certain conditions.\n",
    "\n",
    "The **perceptron algorithm** is now described as follows:\n",
    "\n",
    "- **Data**: \n",
    "    - The observations and their labels $\\mathcal{D}_n=\\{(\\mathbf{x}_i,y_i): 1\\leq i \\leq n\\}$\n",
    "    - The gradient step: $\\epsilon$\n",
    "    - The maximal number of iterations: $n_{iter}$\n",
    "\n",
    "- **Result**: \n",
    "    - $\\mathbf{w}$ \n",
    "- Randomly initialize $\\mathbf{w}$; initialize $j=0$\n",
    "- While ${j\\leq n_{\\rm iter}}$ \n",
    "    - $\\mathbf{w}\\leftarrow\\mathbf{w}$\n",
    "    - For $i=1$ to $n$:\n",
    "        - $\\mathbf{w}\\leftarrow\\mathbf{w}-\\epsilon\\nabla_\\mathbf{w}\\ell( \\hat{f}_{\\mathbf{w}}(\\mathbf{x}_i, y_i))$\n",
    "        - $j\\leftarrow j+1$\n",
    "\n",
    "The code for this procedure is to complete in the ```gradient``` function:\n",
    "\n",
    "*Note: The stochastic gradient method is also available in ```sklearn``` under the name ```SGDClassify``` (SGD is the abbreviation for Stochastic Gradient Descent). A description is given on the page: http://scikit-learn.org/stable/modules/sgd.html.*\n",
    "\n",
    "Simple gradient descent is also called **batch**, and consists in calculating the true gradient $\\frac{1}{n} \\sum_{i=1}^n \\nabla_{\\mathbf{w}}\\ell(\\hat{f}_{\\mathbf{w}}(\\mathbf{x}_i),y_i)$. In the stochastic case, or SGD, we draw uniformly a random example instead. Implement both these ways of selecting examples in the following function. "
   ]
  },
  {
   "cell_type": "code",
   "execution_count": null,
   "metadata": {},
   "outputs": [],
   "source": [
    "def gradient(x, y, eps, niter, w_ini, loss_fun, gr_loss_fun, stochastic=True):\n",
    "    \"\"\" Algorithm for gradient descent:\n",
    "        - x : Data\n",
    "        - y : label\n",
    "        - eps : learning rate\n",
    "        - niter : number of iterations\n",
    "        - w_ini : initial weight\n",
    "        - loss_fun : cost function\n",
    "        - gr_loss_fun : gradient of the cost function \n",
    "        - stoch : True : implements SGD\n",
    "        \"\"\"\n",
    "    w = np.zeros((niter, w_ini.size))\n",
    "    w[0] = w_ini\n",
    "    \n",
    "    # We also keep track of the loss and initialize it \n",
    "    loss = np.zeros(niter)\n",
    "    loss[0] = loss_fun(x, y, w[0]).mean()\n",
    "    \n",
    "    for i in range(1, niter):\n",
    "        if stochastic: # Which indexes are we using in the SGD case ? \n",
    "            indexes = [np.random.randint(len(x))]\n",
    "        else: # Which indexes are we using in the simple gradient case ? \n",
    "            indexes = range(len(x))\n",
    "        # Update the weight and compute the new loss\n",
    "        for i in indexes:\n",
    "            \n",
    "    return w, loss"
   ]
  },
  {
   "cell_type": "markdown",
   "metadata": {},
   "source": [
    "8) The perceptron algorithm we first saw is equivalent to this more general one, with a specific loss function. Which one ? In this case, interpret the following condition: $\\hat{f}_{\\mathbf{w}}(\\mathbf{x}_i)\\cdot y_i \\leq $0"
   ]
  },
  {
   "cell_type": "markdown",
   "metadata": {},
   "source": [
    "9) We will graphically observe, with the function ```plot_gradient```, the evolution of $\\frac{1}{n} \\sum_{i=1}^n \\ell(\\hat{f}_{\\mathbf{w}}(\\mathbf{x}_i),y_i)$ according to $\\mathbf{w}$ following the steps of the algorithm. Why should the number of iterations be ```niter * len(y)``` instead of ```niter``` in the stochastic case ? "
   ]
  },
  {
   "cell_type": "code",
   "execution_count": null,
   "metadata": {},
   "outputs": [],
   "source": [
    "def plot_gradient(X, y, wh, cost_hist, loss_fun):\n",
    "    \"\"\" display 4 figures on how  (stochastic) gradient descent behaves\n",
    "    wh : solution history\n",
    "    cost_hist : cost history\n",
    "    loss_fun : loss function\n",
    "    \"\"\"\n",
    "    best = np.argmin(cost_hist)\n",
    "    plt.subplot(221)\n",
    "    plt.title('Data and hyperplane estimated')\n",
    "    plot_2d(X, y, wh[best, :])\n",
    "    plt.subplot(222)\n",
    "    plt.title('Projection of level line and algorithm path')\n",
    "    plot_cout(X, y, loss_fun, wh)\n",
    "    plt.subplot(223)\n",
    "    plt.title('Objective function vs iterations')\n",
    "    plt.plot(range(cost_hist.shape[0]), cost_hist)\n",
    "    plt.subplot(224, projection='3d')\n",
    "    plt.title('Level line and algorithm path')\n",
    "    plot_cout3d(X, y, loss_fun, wh)"
   ]
  },
  {
   "cell_type": "code",
   "execution_count": null,
   "metadata": {},
   "outputs": [],
   "source": [
    "#############################################################################\n",
    "#            Displaying tools for plot_gradient - no understanding needed ! #\n",
    "#############################################################################\n",
    "\n",
    "def frontiere(f, X, step=50, cmap_choice=cm.coolwarm):\n",
    "    \"\"\"Frontiere plotting for a decision function f.\"\"\"\n",
    "    min_tot0 = np.min(X[:, 0])\n",
    "    max_tot0 = np.max(X[:, 0])\n",
    "    min_tot1 = np.min(X[:, 1])\n",
    "    max_tot1 = np.max(X[:, 1])\n",
    "    delta0 = (max_tot0 - min_tot0)\n",
    "    delta1 = (max_tot1 - min_tot1)\n",
    "    xx, yy = np.meshgrid(np.arange(min_tot0, max_tot0, delta0 / step),\n",
    "                         np.arange(min_tot1, max_tot1, delta1 / step))\n",
    "    z = np.array([f(vec) for vec in np.c_[xx.ravel(), yy.ravel()]])\n",
    "    z = z.reshape(xx.shape)\n",
    "    plt.imshow(z, origin='lower', interpolation=\"nearest\", cmap=cmap_choice,\n",
    "               extent=[min_tot0, max_tot0, min_tot1, max_tot1])\n",
    "    plt.colorbar()\n",
    "\n",
    "def frontiere_new(clf, X, y, w=None, step=50, alpha_choice=1, colorbar=True,\n",
    "                  samples=True, n_labels=3, n_neighbors=3):\n",
    "    \"\"\"Trace la frontiere pour la fonction de decision de clf.\"\"\"\n",
    "    min_tot0 = np.min(X[:, 0])\n",
    "    min_tot1 = np.min(X[:, 1])\n",
    "\n",
    "    max_tot0 = np.max(X[:, 0])\n",
    "    max_tot1 = np.max(X[:, 1])\n",
    "    delta0 = (max_tot0 - min_tot0)\n",
    "    delta1 = (max_tot1 - min_tot1)\n",
    "    xx, yy = np.meshgrid(np.arange(min_tot0, max_tot0, delta0 / step),\n",
    "                         np.arange(min_tot1, max_tot1, delta1 / step))\n",
    "    XX = np.c_[xx.ravel(), yy.ravel()]\n",
    "    print(XX.shape)\n",
    "    z = clf.predict(XX)\n",
    "    z = z.reshape(xx.shape)\n",
    "    labels = np.unique(z)\n",
    "    color_blind_list = sns.color_palette(\"colorblind\", labels.shape[0])\n",
    "    my_cmap = ListedColormap(color_blind_list)\n",
    "    plt.imshow(z, origin='lower', interpolation=\"mitchell\", alpha=0.80,\n",
    "               cmap=my_cmap, extent=[min_tot0, max_tot0, min_tot1, max_tot1])\n",
    "    if colorbar is True:\n",
    "        ax = plt.gca()\n",
    "        cbar = plt.colorbar(ticks=labels)\n",
    "        cbar.ax.set_yticklabels(labels)\n",
    "\n",
    "    # color_blind_list = sns.color_palette(\"colorblind\", labels.shape[0])\n",
    "    # sns.set_palette(color_blind_list)\n",
    "    ax = plt.gca()\n",
    "    if samples is True:\n",
    "        for i, label in enumerate(y):\n",
    "            label_num = np.where(labels == label)[0][0]\n",
    "            plt.scatter(X[i, 0], X[i, 1], c=[color_blind_list[label_num]],\n",
    "                        s=80, marker=symlist[label_num])\n",
    "    plt.xlim([min_tot0, max_tot0])\n",
    "    plt.ylim([min_tot1, max_tot1])\n",
    "    ax.get_yaxis().set_ticks([])\n",
    "    ax.get_xaxis().set_ticks([])\n",
    "    if w is not None:\n",
    "        plt.plot([min_tot0, max_tot0],\n",
    "                 [min_tot0 * -w[1] / w[2] - w[0] / w[2],\n",
    "                  max_tot0 * -w[1] / w[2] - w[0] / w[2]],\n",
    "                 \"k\", alpha=alpha_choice)\n",
    "    plt.title(\"L=\" + str(n_labels) + \",k=\" +\n",
    "              str(n_neighbors))\n",
    "\n",
    "def frontiere_3d(f, data, step=20):\n",
    "    \"\"\"Plot the 3d frontiere for the decision function f.\"\"\"\n",
    "    ax = plt.gca(projection='3d')\n",
    "    xmin, xmax = data[:, 0].min() - 1., data[:, 0].max() + 1.\n",
    "    ymin, ymax = data[:, 1].min() - 1., data[:, 1].max() + 1.\n",
    "    xx, yy = np.meshgrid(np.arange(xmin, xmax, (xmax - xmin) * 1. / step),\n",
    "                         np.arange(ymin, ymax, (ymax - ymin) * 1. / step))\n",
    "    z = np.array([f(vec) for vec in np.c_[xx.ravel(), yy.ravel()]])\n",
    "    z = z.reshape(xx.shape)\n",
    "    ax.plot_surface(xx, yy, z, rstride=1, cstride=1,\n",
    "                    linewidth=0., antialiased=False,\n",
    "                    cmap=plt.cm.coolwarm)\n",
    "\n",
    "def plot_cout(X, y, loss_fun, w=None):\n",
    "    \"\"\"Plot the cost function encoded by loss_fun,\n",
    "\n",
    "    Parameters\n",
    "    ----------\n",
    "    X : data features\n",
    "    y :  labels\n",
    "    loss_fun : loss function\n",
    "    w : (optionnal) can be used to give a historic path of the weights \"\"\"\n",
    "    def _inter(wn):\n",
    "        ww = np.zeros(3)\n",
    "        ww[1:] = wn\n",
    "        return loss_fun(X, y, ww).mean()\n",
    "    datarange = np.array([[np.min(X[:, 0]), np.min(X[:, 1])],\n",
    "                          [np.max(X[:, 0]), np.max(X[:, 1])]])\n",
    "    frontiere(_inter, np.array(datarange))\n",
    "    if w is not None:\n",
    "        plt.plot(w[:, 1], w[:, 2], 'k')\n",
    "    plt.xlim([np.min(X[:, 0]), np.max(X[:, 0])])\n",
    "    plt.ylim([np.min(X[:, 1]), np.max(X[:, 1])])\n",
    "\n",
    "def plot_cout3d(x, y, loss_fun, w):\n",
    "    \"\"\" trace le cout de la fonction cout loss_fun passee en parametre, en x,y,\n",
    "        en faisant varier les coordonnees du poids w.\n",
    "        W peut etre utilise pour passer un historique de poids\"\"\"\n",
    "    def _inter(wn):\n",
    "        ww = np.zeros(3)\n",
    "        ww[1:] = wn\n",
    "        return loss_fun(x, y, ww).mean()\n",
    "\n",
    "    datarange = np.array([[w[:, 1].min(), w[:, 2].min()],\n",
    "                         [w[:, 1].max(), w[:, 2].max()]])\n",
    "    frontiere_3d(_inter, np.array(datarange))\n",
    "    plt.plot(w[:, 1], w[:, 2], np.array([_inter(w[i, 1:]) for i in\n",
    "             range(w.shape[0])]), 'k-', linewidth=3)"
   ]
  },
  {
   "cell_type": "markdown",
   "metadata": {},
   "source": [
    "10) Experiment on different datasets: use either the cost functions provided here with ```gradient```,  either the ```sklearn``` function. Study performance according to the following points: the number of iterations, the cost function, the difficulty of the problem (whether the classes are easily separable or not, which you can act on by choosing different gaussian to generate from). Do you at any point observe strange behaviour ? If so, what is the reason?"
   ]
  },
  {
   "cell_type": "code",
   "execution_count": null,
   "metadata": {},
   "outputs": [],
   "source": [
    "epsilon = 0.05\n",
    "niter = 3\n",
    "plt.figure(8, figsize=(15, 15))\n",
    "plt.suptitle('MSE and stochastic')\n",
    "\n",
    "'''\n",
    "Complete here\n",
    "'''\n",
    "plt.show()"
   ]
  },
  {
   "cell_type": "code",
   "execution_count": null,
   "metadata": {},
   "outputs": [],
   "source": [
    "epsilon = 0.05\n",
    "niter = 10\n",
    "plt.figure(8, figsize=(15, 15))\n",
    "plt.suptitle('Hinge and stochastic')\n",
    "\n",
    "'''\n",
    "Complete here\n",
    "'''\n",
    "plt.show()"
   ]
  },
  {
   "cell_type": "markdown",
   "metadata": {},
   "source": [
    "11) Study as before the behavior of the gradient descent algorithm, but with the option ```stoch=True``` disabled."
   ]
  },
  {
   "cell_type": "code",
   "execution_count": null,
   "metadata": {},
   "outputs": [],
   "source": [
    "epsilon = 0.001\n",
    "niter = 3\n",
    "plt.figure(8, figsize=(15, 15))\n",
    "plt.suptitle('MSE non stochastic')\n",
    "\n",
    "'''\n",
    "Complete here\n",
    "'''\n",
    "plt.show()"
   ]
  },
  {
   "cell_type": "markdown",
   "metadata": {},
   "source": [
    "Bonus question: Implement the  prediction function of the probabilistic perceptron seen in class, using the given  ```sigmoid``` function. Then, implement the NLL-loss and its gradient as seen in class, and experiment with them similarly as before. "
   ]
  },
  {
   "cell_type": "code",
   "execution_count": null,
   "metadata": {},
   "outputs": [],
   "source": [
    "# Careful, this is a naïve implementation that is not numerically stable\n",
    "def sigmoid(x):\n",
    "    return 1/(1 + np.exp(-x))\n",
    "\n",
    "def predict_probability(x, w):\n",
    "    \"\"\"Predict a probability to be in class 1 from at point x thanks to a normal vector.\"\"\"\n",
    "    return # Complete here"
   ]
  },
  {
   "cell_type": "code",
   "execution_count": null,
   "metadata": {},
   "outputs": [],
   "source": [
    "def nll_loss(x, y, w):\n",
    "    \"\"\"Maximum likelihood estimation loss\"\"\"\n",
    "    y = (y+1)/2 # We need 0/1 classes instead of -1/1 classes\n",
    "    return # Complete here\n",
    "\n",
    "def gr_nll_loss(x, y, w):\n",
    "    \"\"\"Sub-gradient of the loss function hingeloss.\"\"\"\n",
    "    y = (y+1)/2\n",
    "    return # Complete here"
   ]
  },
  {
   "cell_type": "code",
   "execution_count": null,
   "metadata": {},
   "outputs": [],
   "source": [
    "epsilon = 0.05\n",
    "niter = 3\n",
    "plt.figure(8, figsize=(15, 15))\n",
    "plt.suptitle('MLE and stochastic')\n",
    "\n",
    "'''\n",
    "Complete here\n",
    "'''\n",
    "plt.show()"
   ]
  }
 ],
 "metadata": {
  "kernelspec": {
   "display_name": "Python 3 (ipykernel)",
   "language": "python",
   "name": "python3"
  },
  "language_info": {
   "codemirror_mode": {
    "name": "ipython",
    "version": 3
   },
   "file_extension": ".py",
   "mimetype": "text/x-python",
   "name": "python",
   "nbconvert_exporter": "python",
   "pygments_lexer": "ipython3",
   "version": "3.9.7"
  }
 },
 "nbformat": 4,
 "nbformat_minor": 2
}
